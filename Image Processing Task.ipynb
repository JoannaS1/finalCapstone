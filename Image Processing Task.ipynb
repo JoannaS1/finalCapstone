{
 "cells": [
  {
   "cell_type": "code",
   "execution_count": 26,
   "id": "1bc77430",
   "metadata": {},
   "outputs": [],
   "source": [
    "import scipy.io\n",
    "import numpy as np\n",
    "import matplotlib.pyplot as plt\n",
    "from sklearn.ensemble import RandomForestClassifier\n",
    "from sklearn.model_selection import train_test_split, RandomizedSearchCV\n",
    "from sklearn.metrics import accuracy_score, confusion_matrix, precision_score, recall_score, f1_score\n",
    "\n",
    "%matplotlib inline"
   ]
  },
  {
   "cell_type": "code",
   "execution_count": 2,
   "id": "d3d7abb3",
   "metadata": {},
   "outputs": [
    {
     "data": {
      "text/plain": [
       "{'__header__': b'MATLAB 5.0 MAT-file Platform: posix, Created on: Sun Mar 30 03:19:02 2014',\n",
       " '__version__': '1.0',\n",
       " '__globals__': [],\n",
       " 'mldata_descr_ordering': array([[array(['label'], dtype='<U5'), array(['data'], dtype='<U4')]],\n",
       "       dtype=object),\n",
       " 'data': array([[0, 0, 0, ..., 0, 0, 0],\n",
       "        [0, 0, 0, ..., 0, 0, 0],\n",
       "        [0, 0, 0, ..., 0, 0, 0],\n",
       "        ...,\n",
       "        [0, 0, 0, ..., 0, 0, 0],\n",
       "        [0, 0, 0, ..., 0, 0, 0],\n",
       "        [0, 0, 0, ..., 0, 0, 0]], dtype=uint8),\n",
       " 'label': array([[0., 0., 0., ..., 9., 9., 9.]])}"
      ]
     },
     "execution_count": 2,
     "metadata": {},
     "output_type": "execute_result"
    }
   ],
   "source": [
    "# Load the MNIST dataset and explore the file\n",
    "mnist = scipy.io.loadmat('mnist-original.mat')\n",
    "mnist"
   ]
  },
  {
   "cell_type": "code",
   "execution_count": 3,
   "id": "4c11eb68",
   "metadata": {},
   "outputs": [],
   "source": [
    "# Separate features and labels\n",
    "X = mnist['data']\n",
    "y = mnist['label']"
   ]
  },
  {
   "cell_type": "code",
   "execution_count": 4,
   "id": "1f8b1fba",
   "metadata": {},
   "outputs": [
    {
     "name": "stdout",
     "output_type": "stream",
     "text": [
      "(784, 70000)\n",
      "(1, 70000)\n"
     ]
    }
   ],
   "source": [
    "# Check the shape of features and labels\n",
    "print(X.shape)\n",
    "print(y.shape)"
   ]
  },
  {
   "cell_type": "code",
   "execution_count": 5,
   "id": "fca4c850",
   "metadata": {},
   "outputs": [],
   "source": [
    "# Transpose both features and labels so that each row represents an image\n",
    "X = X.transpose()\n",
    "y = y.transpose()"
   ]
  },
  {
   "cell_type": "code",
   "execution_count": 6,
   "id": "1e75e889",
   "metadata": {},
   "outputs": [
    {
     "data": {
      "text/plain": [
       "<matplotlib.image.AxesImage at 0x7ff1b32d73d0>"
      ]
     },
     "execution_count": 6,
     "metadata": {},
     "output_type": "execute_result"
    },
    {
     "data": {
      "image/png": "[encoded data removed]",
      "text/plain": [
       "<Figure size 432x288 with 1 Axes>"
      ]
     },
     "metadata": {
      "needs_background": "light"
     },
     "output_type": "display_data"
    }
   ],
   "source": [
    "# Visualise an image to test\n",
    "img_idx = 41000\n",
    "plt.imshow(np.reshape(X[img_idx,:], (28,28)))"
   ]
  },
  {
   "cell_type": "code",
   "execution_count": 7,
   "id": "33d47d19",
   "metadata": {},
   "outputs": [],
   "source": [
    "# Split the data into a training and testing sets\n",
    "r = 4\n",
    "X_train, X_test, y_train, y_test = train_test_split(X, \n",
    "                y, test_size=0.2, random_state=r)\n",
    "\n",
    "# Further split the testing set into testing and final validation sets\n",
    "X_test, X_val, y_test, y_val = train_test_split(X_test, \n",
    "               y_test, test_size=0.2, random_state=r)"
   ]
  },
  {
   "cell_type": "code",
   "execution_count": 22,
   "id": "a9f0e0ed",
   "metadata": {},
   "outputs": [
    {
     "name": "stdout",
     "output_type": "stream",
     "text": [
      "{'bootstrap': True, 'ccp_alpha': 0.0, 'class_weight': None, 'criterion': 'gini', 'max_depth': None, 'max_features': 'sqrt', 'max_leaf_nodes': None, 'max_samples': None, 'min_impurity_decrease': 0.0, 'min_samples_leaf': 1, 'min_samples_split': 2, 'min_weight_fraction_leaf': 0.0, 'n_estimators': 100, 'n_jobs': None, 'oob_score': False, 'random_state': None, 'verbose': 0, 'warm_start': False}\n"
     ]
    }
   ],
   "source": [
    "# Create a ranom forest model\n",
    "clf = RandomForestClassifier()\n",
    "\n",
    "# Check parameters\n",
    "print(clf.get_params())"
   ]
  },
  {
   "cell_type": "code",
   "execution_count": 23,
   "id": "bbccbf8d",
   "metadata": {},
   "outputs": [
    {
     "name": "stderr",
     "output_type": "stream",
     "text": [
      "<ipython-input-23-e2cd04fe1d43>:2: DataConversionWarning: A column-vector y was passed when a 1d array was expected. Please change the shape of y to (n_samples,), for example using ravel().\n",
      "  clf.fit(X_train, y_train)\n"
     ]
    }
   ],
   "source": [
    "# Fit the model and predict the labels based on the test features set\n",
    "clf.fit(X_train, y_train)\n",
    "y_pred = clf.predict(X_test)"
   ]
  },
  {
   "cell_type": "code",
   "execution_count": 25,
   "id": "d685d0fd",
   "metadata": {},
   "outputs": [
    {
     "name": "stdout",
     "output_type": "stream",
     "text": [
      "Accuracy score:  0.9690178571428572\n",
      "[36, 35, 32, 37, 37, 30, 34, 36, 39, 31, 41, 29, 33, 35, 39, 31, 27, 32, 29, 29, 33, 36, 32, 34, 34, 38, 33, 39, 33, 39, 40, 35, 38, 38, 30, 38, 35, 37, 31, 36, 35, 30, 36, 40, 32, 33, 32, 30, 35, 32, 36, 33, 36, 39, 34, 32, 38, 26, 28, 35, 32, 37, 40, 33, 37, 32, 32, 28, 32, 39, 30, 35, 29, 34, 31, 30, 29, 35, 32, 32, 36, 40, 42, 31, 37, 31, 37, 33, 40, 36, 35, 39, 32, 36, 35, 30, 31, 41, 33, 33]\n"
     ]
    }
   ],
   "source": [
    "# Check accuracy of the current model \n",
    "print(\"Accuracy score: \",accuracy_score(y_test, y_pred))\n",
    "\n",
    "# Print the max depth of the individual trees in the model\n",
    "print([estimator.tree_.max_depth for estimator in clf.estimators_])"
   ]
  },
  {
   "cell_type": "markdown",
   "id": "662bf66c",
   "metadata": {},
   "source": [
    "### The accuracy score is high (>0.95). It looks like a lot of the individual trees have a depth of over 30. To avoid overfitting, I will try to tune the max depth parameter. "
   ]
  },
  {
   "cell_type": "code",
   "execution_count": 27,
   "id": "2e9b110f",
   "metadata": {},
   "outputs": [
    {
     "name": "stdout",
     "output_type": "stream",
     "text": [
      "Fitting 3 folds for each of 10 candidates, totalling 30 fits\n"
     ]
    },
    {
     "name": "stderr",
     "output_type": "stream",
     "text": [
      "/Users/joannascharoch/opt/anaconda3/lib/python3.8/site-packages/sklearn/model_selection/_search.py:306: UserWarning: The total space of parameters 10 is smaller than n_iter=100. Running 10 iterations. For exhaustive searches, use GridSearchCV.\n",
      "  warnings.warn(\n",
      "/Users/joannascharoch/opt/anaconda3/lib/python3.8/site-packages/sklearn/model_selection/_search.py:910: DataConversionWarning: A column-vector y was passed when a 1d array was expected. Please change the shape of y to (n_samples,), for example using ravel().\n",
      "  self.best_estimator_.fit(X, y, **fit_params)\n"
     ]
    },
    {
     "name": "stdout",
     "output_type": "stream",
     "text": [
      "Accuracy of tuned random forest: 0.9683928571428572\n"
     ]
    },
    {
     "data": {
      "text/plain": [
       "{'max_depth': 30}"
      ]
     },
     "execution_count": 27,
     "metadata": {},
     "output_type": "execute_result"
    }
   ],
   "source": [
    "# Use a grid search cv method to tune random forest parameters\n",
    "\n",
    "# Maximum number of levels in tree\n",
    "max_depth = [int(x) for x in np.linspace(start = 5, stop = 30, num = 10)]\n",
    "\n",
    "# Create the random grid\n",
    "random_grid = {'max_depth': max_depth}\n",
    "\n",
    "# Create a random forest model with tuned estimators and max depth\n",
    "rf_random = RandomizedSearchCV(estimator = forest, \n",
    "                               param_distributions = random_grid, \n",
    "                               n_iter = 100, \n",
    "                               cv = 3, \n",
    "                               verbose=2, \n",
    "                               random_state=42, \n",
    "                               n_jobs = -1)\n",
    "\n",
    "rf_random.fit(X_train, y_train)\n",
    "\n",
    "# Print the accuracy\n",
    "print(\"Accuracy of tuned random forest:\",rf_random.score(X_test, y_test))\n",
    "\n",
    "# Check which parameters were used\n",
    "rf_random.best_params_"
   ]
  },
  {
   "cell_type": "code",
   "execution_count": 28,
   "id": "29f707ab",
   "metadata": {},
   "outputs": [
    {
     "name": "stderr",
     "output_type": "stream",
     "text": [
      "<ipython-input-28-e0cac49c71f7>:2: DataConversionWarning: A column-vector y was passed when a 1d array was expected. Please change the shape of y to (n_samples,), for example using ravel().\n",
      "  clf.fit(X_train, y_train)\n"
     ]
    }
   ],
   "source": [
    "# Create a tuned model using the max depth returned as best from the randomised search cv\n",
    "clf_tuned = RandomForestClassifier(max_depth=30)\n",
    "\n",
    "# Fit the model on the training data\n",
    "clf.fit(X_train, y_train)\n",
    "\n",
    "# Predict the labels from the final validation set\n",
    "y_pred_tuned = clf.predict(X_val)"
   ]
  },
  {
   "cell_type": "code",
   "execution_count": 29,
   "id": "5f5f49bd",
   "metadata": {},
   "outputs": [
    {
     "data": {
      "image/png": "[encoded data removed]",
      "text/plain": [
       "<Figure size 576x576 with 1 Axes>"
      ]
     },
     "metadata": {
      "needs_background": "light"
     },
     "output_type": "display_data"
    }
   ],
   "source": [
    "# Create a confusion matrix\n",
    "conf_matrix = confusion_matrix(y_true=y_val, y_pred=y_pred_tuned)\n",
    "\n",
    "# Visualise the confusion matrix using Matplotlib\n",
    "fig, ax = plt.subplots(figsize=(8, 8))\n",
    "ax.matshow(conf_matrix, cmap=plt.cm.Blues, alpha=0.3)\n",
    "for i in range(conf_matrix.shape[0]):\n",
    "    for j in range(conf_matrix.shape[1]):\n",
    "        ax.text(x=j, y=i,s=conf_matrix[i, j], va='center', ha='center', size='xx-large')\n",
    "plt.xlabel('Predictions', fontsize=18)\n",
    "plt.ylabel('Actuals', fontsize=18)\n",
    "plt.title('Confusion Matrix', fontsize=18)\n",
    "plt.show()"
   ]
  },
  {
   "cell_type": "code",
   "execution_count": 30,
   "id": "d221deb8",
   "metadata": {},
   "outputs": [
    {
     "name": "stdout",
     "output_type": "stream",
     "text": [
      "Accuracy score:  0.9675\n",
      "Precision scores:  [0.98141264 0.98701299 0.94405594 0.98194946 0.95951417 0.95729537\n",
      " 0.96369637 0.97454545 0.96949153 0.95366795]\n",
      "Recall scores:  [0.98507463 0.98701299 0.97122302 0.95438596 0.97131148 0.95729537\n",
      " 0.97986577 0.96402878 0.95333333 0.95      ]\n",
      "F1 scores:  [0.98324022 0.98701299 0.95744681 0.96797153 0.96537678 0.95729537\n",
      " 0.97171381 0.96925859 0.96134454 0.95183044]\n"
     ]
    }
   ],
   "source": [
    "# Print the accuracy, precision, recall and f1 scores of the model\n",
    "print(\"Accuracy score: \",accuracy_score(y_val, y_pred_tuned))\n",
    "print(\"Precision scores: \",precision_score(y_val, y_pred_tuned, average=None, labels=[0,1,2,3,4,5,6,7,8,9]))\n",
    "print(\"Recall scores: \",recall_score(y_val, y_pred_tuned, average=None, labels=[0,1,2,3,4,5,6,7,8,9]))\n",
    "print(\"F1 scores: \",f1_score(y_val, y_pred_tuned, average=None, labels=[0,1,2,3,4,5,6,7,8,9]))"
   ]
  },
  {
   "cell_type": "markdown",
   "id": "668b33bf",
   "metadata": {},
   "source": [
    "### Based on the confusion matrix and the f1 score, which combines both recall and precision, I can see that the model struggled the most with numbers 2, 5 and 9. \n",
    "### Precision score was the lowest for the number 2, meaning other numbers tended to be falsely recognised as 2. Recall score was the lowest for number 9, meaning more true 9s were recognised as other numbers"
   ]
  },
  {
   "cell_type": "code",
   "execution_count": null,
   "id": "2f20d007",
   "metadata": {},
   "outputs": [],
   "source": []
  }
 ],
 "metadata": {
  "kernelspec": {
   "display_name": "Python 3",
   "language": "python",
   "name": "python3"
  },
  "language_info": {
   "codemirror_mode": {
    "name": "ipython",
    "version": 3
   },
   "file_extension": ".py",
   "mimetype": "text/x-python",
   "name": "python",
   "nbconvert_exporter": "python",
   "pygments_lexer": "ipython3",
   "version": "3.8.8"
  }
 },
 "nbformat": 4,
 "nbformat_minor": 5
}
